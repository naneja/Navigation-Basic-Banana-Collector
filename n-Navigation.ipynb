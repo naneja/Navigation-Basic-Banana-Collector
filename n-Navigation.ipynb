{
 "cells": [
  {
   "cell_type": "markdown",
   "metadata": {},
   "source": [
    "# Navigation"
   ]
  },
  {
   "cell_type": "code",
   "execution_count": 1,
   "metadata": {},
   "outputs": [],
   "source": [
    "from unityagents import UnityEnvironment\n",
    "import numpy as np\n",
    "import torch\n",
    "import matplotlib.pyplot as plt\n",
    "import pickle\n",
    "import time\n",
    "\n",
    "%matplotlib inline"
   ]
  },
  {
   "cell_type": "code",
   "execution_count": 2,
   "metadata": {},
   "outputs": [
    {
     "data": {
      "text/plain": [
       "'cpu'"
      ]
     },
     "execution_count": 2,
     "metadata": {},
     "output_type": "execute_result"
    }
   ],
   "source": [
    "device = 'cuda' if torch.cuda.is_available() else 'cpu'\n",
    "device"
   ]
  },
  {
   "cell_type": "code",
   "execution_count": 3,
   "metadata": {},
   "outputs": [
    {
     "data": {
      "text/plain": [
       "'linux'"
      ]
     },
     "execution_count": 3,
     "metadata": {},
     "output_type": "execute_result"
    }
   ],
   "source": [
    "from sys import platform\n",
    "\n",
    "if platform == \"linux\" or platform == \"linux2\":\n",
    "    file = 'config/Banana_Linux_NoVis/Banana.x86_64'\n",
    "elif platform == \"darwin\":\n",
    "    file = 'config/Banana.app'\n",
    "\n",
    "platform"
   ]
  },
  {
   "cell_type": "code",
   "execution_count": 4,
   "metadata": {},
   "outputs": [
    {
     "name": "stderr",
     "output_type": "stream",
     "text": [
      "INFO:unityagents:\n",
      "'Academy' started successfully!\n",
      "Unity Academy name: Academy\n",
      "        Number of Brains: 1\n",
      "        Number of External Brains : 1\n",
      "        Lesson number : 0\n",
      "        Reset Parameters :\n",
      "\t\t\n",
      "Unity brain name: BananaBrain\n",
      "        Number of Visual Observations (per agent): 0\n",
      "        Vector Observation space type: continuous\n",
      "        Vector Observation space size (per agent): 37\n",
      "        Number of stacked Vector Observation: 1\n",
      "        Vector Action space type: discrete\n",
      "        Vector Action space size (per agent): 4\n",
      "        Vector Action descriptions: , , , \n"
     ]
    },
    {
     "name": "stdout",
     "output_type": "stream",
     "text": [
      "BananaBrain\n"
     ]
    }
   ],
   "source": [
    "env = UnityEnvironment(file_name=file)\n",
    "\n",
    "brain_name = env.brain_names[0]\n",
    "print(brain_name)\n",
    "\n",
    "brain = env.brains[brain_name]"
   ]
  },
  {
   "cell_type": "code",
   "execution_count": 5,
   "metadata": {},
   "outputs": [
    {
     "name": "stdout",
     "output_type": "stream",
     "text": [
      "Agents  1\n",
      "Actions  4\n",
      "State  [1.         0.         0.         0.         0.84408134 0.\n",
      " 0.         1.         0.         0.0748472  0.         1.\n",
      " 0.         0.         0.25755    1.         0.         0.\n",
      " 0.         0.74177343 0.         1.         0.         0.\n",
      " 0.25854847 0.         0.         1.         0.         0.09355672\n",
      " 0.         1.         0.         0.         0.31969345 0.\n",
      " 0.        ]\n",
      "Len of State  37\n"
     ]
    }
   ],
   "source": [
    "env_info = env.reset(train_mode=True)[brain_name]\n",
    "\n",
    "n_agents = len(env_info.agents)               # number of agents in the environment\n",
    "action_size = brain.vector_action_space_size  # number of actions\n",
    "state = env_info.vector_observations[0]       # examine the state space \n",
    "state_size = len(state)\n",
    "\n",
    "\n",
    "print('Agents ', n_agents)\n",
    "print('Actions ', action_size)\n",
    "print('State ', state)\n",
    "print('Len of State ', state_size)"
   ]
  },
  {
   "cell_type": "markdown",
   "metadata": {},
   "source": [
    "## Watch untrained agent"
   ]
  },
  {
   "cell_type": "code",
   "execution_count": 6,
   "metadata": {},
   "outputs": [],
   "source": [
    "see_untrain = True"
   ]
  },
  {
   "cell_type": "code",
   "execution_count": 7,
   "metadata": {},
   "outputs": [
    {
     "name": "stdout",
     "output_type": "stream",
     "text": [
      "Mission Accomplished!\n",
      "Score 0.0\n"
     ]
    }
   ],
   "source": [
    "env_info = env.reset(train_mode=True)[brain_name]\n",
    "\n",
    "state = env_info.vector_observations[0]\n",
    "\n",
    "score = 0\n",
    "\n",
    "while see_untrain:\n",
    "    action = np.random.randint(action_size)\n",
    "    \n",
    "    env_info = env.step(action)[brain_name]\n",
    "    \n",
    "    reward, next_state, done = \\\n",
    "        env_info.rewards[0], env_info.vector_observations[0], env_info.local_done[0]\n",
    "    \n",
    "    score += reward\n",
    "    state = next_state\n",
    "    \n",
    "    if done:\n",
    "        print('Mission Accomplished!')\n",
    "        break\n",
    "print('Score {}'.format(score))"
   ]
  },
  {
   "cell_type": "code",
   "execution_count": 8,
   "metadata": {},
   "outputs": [],
   "source": [
    "#env.close()"
   ]
  },
  {
   "cell_type": "markdown",
   "metadata": {},
   "source": [
    "## Watch untrained agent - using DQN"
   ]
  },
  {
   "cell_type": "code",
   "execution_count": 9,
   "metadata": {},
   "outputs": [],
   "source": [
    "from dqn_agent import Agent\n",
    "\n",
    "agent = Agent(state_size=state_size, action_size=action_size, seed=0)"
   ]
  },
  {
   "cell_type": "code",
   "execution_count": 10,
   "metadata": {},
   "outputs": [
    {
     "name": "stdout",
     "output_type": "stream",
     "text": [
      "Mission Accomplished!\n",
      "Score 2.0\n"
     ]
    }
   ],
   "source": [
    "env_info = env.reset(train_mode=True)[brain_name]\n",
    "\n",
    "state = env_info.vector_observations[0]\n",
    "\n",
    "score = 0\n",
    "\n",
    "while see_untrain:\n",
    "    \n",
    "    action = agent.act(state)\n",
    "    \n",
    "    env_info = env.step(action)[brain_name]\n",
    "    \n",
    "    reward, state, done = \\\n",
    "        env_info.rewards[0], env_info.vector_observations[0], env_info.local_done[0]\n",
    "    \n",
    "    score += reward\n",
    "    \n",
    "    if done:\n",
    "        print('Mission Accomplished!')\n",
    "        break\n",
    "        \n",
    "print('Score {}'.format(score))"
   ]
  },
  {
   "cell_type": "markdown",
   "metadata": {},
   "source": [
    "## Train Agent"
   ]
  },
  {
   "cell_type": "code",
   "execution_count": 11,
   "metadata": {},
   "outputs": [
    {
     "name": "stdout",
     "output_type": "stream",
     "text": [
      "Model Loaded\n"
     ]
    }
   ],
   "source": [
    "from collections import deque\n",
    "\n",
    "train = False\n",
    "\n",
    "def dqn(n_episodes=2000, max_t=1000, eps_start=1.0, eps_end=0.01, eps_decay=0.995):\n",
    "    scores = []\n",
    "    scores_window = deque(maxlen=100)\n",
    "    eps = eps_start\n",
    "    \n",
    "    for i in range(1,n_episodes+1):\n",
    "        env_info = env.reset(train_mode=True)[brain_name]\n",
    "        state = env_info.vector_observations[0]\n",
    "        score = 0\n",
    "        \n",
    "        for t in range(max_t):\n",
    "            action = agent.act(state, eps)\n",
    "            \n",
    "            env_info = env.step(action)[brain_name]\n",
    "            reward, next_state, done = \\\n",
    "                env_info.rewards[0], env_info.vector_observations[0], env_info.local_done[0]\n",
    "            \n",
    "            agent.step(state, action, reward, next_state, done)\n",
    "            \n",
    "            state = next_state\n",
    "            score += reward\n",
    "            \n",
    "            if done:\n",
    "                break\n",
    "                \n",
    "        scores.append(score)\n",
    "        scores_window.append(score)\n",
    "        \n",
    "        eps = max(eps_end, eps * eps_decay)\n",
    "        \n",
    "        avg = np.mean(scores_window)\n",
    "        \n",
    "        print('\\rEpisode: {} \\t Avg Score: {:.2f}'.format(i, avg), end='')\n",
    "        \n",
    "        if i % 100 == 0:\n",
    "            print('\\rEpisode: {} \\t Avg Score: {:.2f}'.format(i, avg))\n",
    "            \n",
    "        if np.mean(scores_window) >= 13.0:\n",
    "            print('\\r[Solved] Episodes {:d} Avg Score: {:.2f}'.format(i, avg))\n",
    "            \n",
    "            torch.save(agent.qnetwork_local.state_dict(), 'checkpoint.pth')\n",
    "            \n",
    "            with open('scores.pkl', 'wb') as fp:\n",
    "                pickle.dump(scores, fp)\n",
    "                        \n",
    "            break\n",
    "            \n",
    "    return scores\n",
    "\n",
    "\n",
    "if train:\n",
    "    scores = dqn(n_episodes=1000)\n",
    "else:\n",
    "    print('Model Loaded')\n",
    "    model = torch.load('checkpoint.pth', map_location=device)\n",
    "    agent.qnetwork_local.load_state_dict(model)\n",
    "    agent.qnetwork_target.load_state_dict(model)\n",
    "    \n",
    "    with open ('scores.pkl', 'rb') as fp:\n",
    "        scores = pickle.load(fp)"
   ]
  },
  {
   "cell_type": "markdown",
   "metadata": {},
   "source": [
    "## Scores"
   ]
  },
  {
   "cell_type": "code",
   "execution_count": 12,
   "metadata": {},
   "outputs": [
    {
     "data": {
      "image/png": "[encoded data removed]",
      "text/plain": [
       "<Figure size 432x288 with 1 Axes>"
      ]
     },
     "metadata": {
      "needs_background": "light"
     },
     "output_type": "display_data"
    }
   ],
   "source": [
    "fig = plt.figure()\n",
    "ax = fig.add_subplot(111)\n",
    "x = np.arange(len(scores))\n",
    "y = scores\n",
    "plt.plot(x, y)\n",
    "plt.xlabel('Episode#')\n",
    "plt.ylabel('Score');"
   ]
  },
  {
   "cell_type": "markdown",
   "metadata": {},
   "source": [
    "## Watch Trained Agent"
   ]
  },
  {
   "cell_type": "code",
   "execution_count": 13,
   "metadata": {},
   "outputs": [
    {
     "name": "stdout",
     "output_type": "stream",
     "text": [
      "Mission Accomplished!\n",
      "Score 11.0\n"
     ]
    }
   ],
   "source": [
    "env_info = env.reset(train_mode=True)[brain_name]\n",
    "state = env_info.vector_observations[0]\n",
    "score = 0\n",
    "\n",
    "while True:\n",
    "    \n",
    "    action = agent.act(state)\n",
    "    \n",
    "    env_info = env.step(action)[brain_name]\n",
    "    time.sleep(0.2)\n",
    "    reward, state, done = \\\n",
    "        env_info.rewards[0], env_info.vector_observations[0], env_info.local_done[0]\n",
    "    \n",
    "    score += reward\n",
    "    \n",
    "    if done:\n",
    "        print('Mission Accomplished!')\n",
    "        break\n",
    "        \n",
    "print('Score {}'.format(score))"
   ]
  },
  {
   "cell_type": "code",
   "execution_count": 14,
   "metadata": {},
   "outputs": [
    {
     "name": "stdout",
     "output_type": "stream",
     "text": [
      "complete\n"
     ]
    }
   ],
   "source": [
    "env.close()\n",
    "print('complete')"
   ]
  },
  {
   "cell_type": "code",
   "execution_count": null,
   "metadata": {},
   "outputs": [],
   "source": []
  },
  {
   "cell_type": "code",
   "execution_count": null,
   "metadata": {},
   "outputs": [],
   "source": []
  }
 ],
 "metadata": {
  "kernelspec": {
   "display_name": "Python 3",
   "language": "python",
   "name": "python3"
  },
  "language_info": {
   "codemirror_mode": {
    "name": "ipython",
    "version": 3
   },
   "file_extension": ".py",
   "mimetype": "text/x-python",
   "name": "python",
   "nbconvert_exporter": "python",
   "pygments_lexer": "ipython3",
   "version": "3.6.7"
  },
  "toc": {
   "base_numbering": 1,
   "nav_menu": {},
   "number_sections": true,
   "sideBar": true,
   "skip_h1_title": false,
   "title_cell": "Table of Contents",
   "title_sidebar": "Contents",
   "toc_cell": false,
   "toc_position": {},
   "toc_section_display": true,
   "toc_window_display": false
  }
 },
 "nbformat": 4,
 "nbformat_minor": 2
}
